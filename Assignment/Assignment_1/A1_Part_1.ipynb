{
 "cells": [
  {
   "cell_type": "code",
   "execution_count": 1,
   "metadata": {
    "collapsed": false
   },
   "outputs": [],
   "source": [
    "from lxml.html import parse\n",
    "from urllib.request import urlopen\n",
    "from pandas.io.parsers import TextParser"
   ]
  },
  {
   "cell_type": "code",
   "execution_count": 2,
   "metadata": {
    "collapsed": true
   },
   "outputs": [],
   "source": [
    "parsed = parse(urlopen('https://www.sec.gov/Archives/edgar/data/51143/000005114313000007/0000051143-13-000007-index.htm'))\n",
    "doc = parsed.getroot()"
   ]
  },
  {
   "cell_type": "code",
   "execution_count": 3,
   "metadata": {
    "collapsed": false
   },
   "outputs": [],
   "source": [
    "links = doc.findall('.//a')"
   ]
  },
  {
   "cell_type": "code",
   "execution_count": 4,
   "metadata": {
    "collapsed": false
   },
   "outputs": [],
   "source": [
    "url = [lnk.get('href')for lnk in doc.findall('.//a')]"
   ]
  },
  {
   "cell_type": "code",
   "execution_count": 5,
   "metadata": {
    "collapsed": false,
    "scrolled": true
   },
   "outputs": [
    {
     "data": {
      "text/plain": [
       "['/Archives/edgar/data/51143/000005114313000007/ibm13q3_ex11.htm',\n",
       " '/Archives/edgar/data/51143/000005114313000007/ibm13q3_ex12.htm',\n",
       " '/Archives/edgar/data/51143/000005114313000007/ibm13q3_ex31d1.htm',\n",
       " '/Archives/edgar/data/51143/000005114313000007/ibm13q3_ex31d2.htm',\n",
       " '/Archives/edgar/data/51143/000005114313000007/ibm13q3_ex32d1.htm',\n",
       " '/Archives/edgar/data/51143/000005114313000007/ibm13q3_ex32d2.htm',\n",
       " '/Archives/edgar/data/51143/000005114313000007/0000051143-13-000007.txt',\n",
       " '/Archives/edgar/data/51143/000005114313000007/ibm-20130930.xml',\n",
       " '/Archives/edgar/data/51143/000005114313000007/ibm-20130930.xsd',\n",
       " '/Archives/edgar/data/51143/000005114313000007/ibm-20130930_cal.xml',\n",
       " '/Archives/edgar/data/51143/000005114313000007/ibm-20130930_def.xml',\n",
       " '/Archives/edgar/data/51143/000005114313000007/ibm-20130930_lab.xml',\n",
       " '/Archives/edgar/data/51143/000005114313000007/ibm-20130930_pre.xml']"
      ]
     },
     "execution_count": 5,
     "metadata": {},
     "output_type": "execute_result"
    }
   ],
   "source": [
    "url[10:23]"
   ]
  },
  {
   "cell_type": "code",
   "execution_count": 16,
   "metadata": {
    "collapsed": true
   },
   "outputs": [],
   "source": [
    "tables = doc.findall('.//table')"
   ]
  },
  {
   "cell_type": "code",
   "execution_count": 17,
   "metadata": {
    "collapsed": false
   },
   "outputs": [
    {
     "data": {
      "text/plain": [
       "2"
      ]
     },
     "execution_count": 17,
     "metadata": {},
     "output_type": "execute_result"
    }
   ],
   "source": [
    "#len(tables)"
   ]
  },
  {
   "cell_type": "code",
   "execution_count": 7,
   "metadata": {
    "collapsed": false
   },
   "outputs": [],
   "source": [
    "#for x in len(tables):\n",
    "example = tables[0]"
   ]
  },
  {
   "cell_type": "code",
   "execution_count": 8,
   "metadata": {
    "collapsed": true
   },
   "outputs": [],
   "source": [
    "rows = example.findall('.//tr')"
   ]
  },
  {
   "cell_type": "code",
   "execution_count": 9,
   "metadata": {
    "collapsed": true
   },
   "outputs": [],
   "source": [
    "def _unpack(row, kind='td'):\n",
    "    elts = row.findall('.//%s' % kind)\n",
    "    return [val.text_content() for val in elts]"
   ]
  },
  {
   "cell_type": "code",
   "execution_count": 10,
   "metadata": {
    "collapsed": false
   },
   "outputs": [
    {
     "name": "stdout",
     "output_type": "stream",
     "text": [
      "['Seq', 'Description', 'Document', 'Type', 'Size']\n"
     ]
    }
   ],
   "source": [
    "print(_unpack(rows[0], kind=\"th\"))"
   ]
  },
  {
   "cell_type": "code",
   "execution_count": 11,
   "metadata": {
    "collapsed": true
   },
   "outputs": [],
   "source": [
    "def parse_options_data(table):\n",
    "    rows=table.findall('.//tr')\n",
    "    header = _unpack(rows[0], kind ='th')\n",
    "    data = [_unpack(r) for r in rows[1:]]\n",
    "    return TextParser(data, names = header).get_chunk()"
   ]
  },
  {
   "cell_type": "code",
   "execution_count": 18,
   "metadata": {
    "collapsed": false
   },
   "outputs": [
    {
     "data": {
      "text/html": [
       "<div>\n",
       "<table border=\"1\" class=\"dataframe\">\n",
       "  <thead>\n",
       "    <tr style=\"text-align: right;\">\n",
       "      <th></th>\n",
       "      <th>Seq</th>\n",
       "      <th>Description</th>\n",
       "      <th>Document</th>\n",
       "      <th>Type</th>\n",
       "      <th>Size</th>\n",
       "    </tr>\n",
       "  </thead>\n",
       "  <tbody>\n",
       "    <tr>\n",
       "      <th>1</th>\n",
       "      <td>2</td>\n",
       "      <td>EX-11</td>\n",
       "      <td>ibm13q3_ex11.htm</td>\n",
       "      <td>EX-11</td>\n",
       "      <td>81348</td>\n",
       "    </tr>\n",
       "    <tr>\n",
       "      <th>2</th>\n",
       "      <td>3</td>\n",
       "      <td>EX-12</td>\n",
       "      <td>ibm13q3_ex12.htm</td>\n",
       "      <td>EX-12</td>\n",
       "      <td>35495</td>\n",
       "    </tr>\n",
       "    <tr>\n",
       "      <th>3</th>\n",
       "      <td>4</td>\n",
       "      <td>EX-31.1</td>\n",
       "      <td>ibm13q3_ex31d1.htm</td>\n",
       "      <td>EX-31.1</td>\n",
       "      <td>10428</td>\n",
       "    </tr>\n",
       "    <tr>\n",
       "      <th>4</th>\n",
       "      <td>5</td>\n",
       "      <td>EX-31.2</td>\n",
       "      <td>ibm13q3_ex31d2.htm</td>\n",
       "      <td>EX-31.2</td>\n",
       "      <td>11028</td>\n",
       "    </tr>\n",
       "    <tr>\n",
       "      <th>5</th>\n",
       "      <td>6</td>\n",
       "      <td>EX-32.1</td>\n",
       "      <td>ibm13q3_ex32d1.htm</td>\n",
       "      <td>EX-32.1</td>\n",
       "      <td>6773</td>\n",
       "    </tr>\n",
       "    <tr>\n",
       "      <th>6</th>\n",
       "      <td>7</td>\n",
       "      <td>EX-32.2</td>\n",
       "      <td>ibm13q3_ex32d2.htm</td>\n",
       "      <td>EX-32.2</td>\n",
       "      <td>7623</td>\n",
       "    </tr>\n",
       "    <tr>\n",
       "      <th>7</th>\n",
       "      <td></td>\n",
       "      <td>Complete submission text file</td>\n",
       "      <td>0000051143-13-000007.txt</td>\n",
       "      <td></td>\n",
       "      <td>26894261</td>\n",
       "    </tr>\n",
       "  </tbody>\n",
       "</table>\n",
       "</div>"
      ],
      "text/plain": [
       "  Seq                    Description                  Document     Type  \\\n",
       "1   2                          EX-11          ibm13q3_ex11.htm    EX-11   \n",
       "2   3                          EX-12          ibm13q3_ex12.htm    EX-12   \n",
       "3   4                        EX-31.1        ibm13q3_ex31d1.htm  EX-31.1   \n",
       "4   5                        EX-31.2        ibm13q3_ex31d2.htm  EX-31.2   \n",
       "5   6                        EX-32.1        ibm13q3_ex32d1.htm  EX-32.1   \n",
       "6   7                        EX-32.2        ibm13q3_ex32d2.htm  EX-32.2   \n",
       "7      Complete submission text file  0000051143-13-000007.txt            \n",
       "\n",
       "       Size  \n",
       "1     81348  \n",
       "2     35495  \n",
       "3     10428  \n",
       "4     11028  \n",
       "5      6773  \n",
       "6      7623  \n",
       "7  26894261  "
      ]
     },
     "execution_count": 18,
     "metadata": {},
     "output_type": "execute_result"
    }
   ],
   "source": [
    "example_data = parse_options_data(example)\n",
    "example_data[1:10]"
   ]
  },
  {
   "cell_type": "code",
   "execution_count": 13,
   "metadata": {
    "collapsed": false
   },
   "outputs": [
    {
     "data": {
      "text/plain": [
       "0             ibm13q3_10q.htm\n",
       "1            ibm13q3_ex11.htm\n",
       "2            ibm13q3_ex12.htm\n",
       "3          ibm13q3_ex31d1.htm\n",
       "4          ibm13q3_ex31d2.htm\n",
       "5          ibm13q3_ex32d1.htm\n",
       "6          ibm13q3_ex32d2.htm\n",
       "7    0000051143-13-000007.txt\n",
       "Name: Document, dtype: object"
      ]
     },
     "execution_count": 13,
     "metadata": {},
     "output_type": "execute_result"
    }
   ],
   "source": [
    "for decription in example_data['Description']:\n",
    "    if decription == '10q'\n",
    "example_data['Document']"
   ]
  },
  {
   "cell_type": "code",
   "execution_count": null,
   "metadata": {
    "collapsed": true
   },
   "outputs": [],
   "source": []
  }
 ],
 "metadata": {
  "anaconda-cloud": {},
  "kernelspec": {
   "display_name": "Python [conda root]",
   "language": "python",
   "name": "conda-root-py"
  },
  "language_info": {
   "codemirror_mode": {
    "name": "ipython",
    "version": 3
   },
   "file_extension": ".py",
   "mimetype": "text/x-python",
   "name": "python",
   "nbconvert_exporter": "python",
   "pygments_lexer": "ipython3",
   "version": "3.5.2"
  }
 },
 "nbformat": 4,
 "nbformat_minor": 1
}
