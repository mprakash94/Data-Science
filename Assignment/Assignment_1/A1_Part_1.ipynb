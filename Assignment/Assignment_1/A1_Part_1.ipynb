{
 "cells": [
  {
   "cell_type": "markdown",
   "metadata": {},
   "source": [
    "### All necessary imports"
   ]
  },
  {
   "cell_type": "code",
   "execution_count": 283,
   "metadata": {
    "collapsed": true
   },
   "outputs": [],
   "source": [
    "from lxml.html import parse\n",
    "from urllib.request import urlopen\n",
    "from pandas.io.parsers import TextParser\n",
    "import urllib.request\n",
    "import pandas as pd\n",
    "from bs4 import BeautifulSoup #for web scraping\n",
    "import csv #for writing csv\n",
    "import logging #for logging\n",
    "import os\n",
    "import zipfile\n",
    "import boto.s3\n",
    "import sys\n",
    "from boto.s3.key import Key\n",
    "import time\n",
    "import datetime"
   ]
  },
  {
   "cell_type": "markdown",
   "metadata": {},
   "source": [
    "### Storing the cik and acc number in variables"
   ]
  },
  {
   "cell_type": "code",
   "execution_count": 79,
   "metadata": {
    "collapsed": true
   },
   "outputs": [],
   "source": [
    "file_obj = open(\"cikInformation.txt\",\"r\" )\n",
    "cik = file_obj.readline().rstrip()\n",
    "acc = file_obj.readline().rstrip()\n",
    "accNoDash = acc.replace('-', '')"
   ]
  },
  {
   "cell_type": "code",
   "execution_count": 80,
   "metadata": {
    "collapsed": false
   },
   "outputs": [
    {
     "name": "stdout",
     "output_type": "stream",
     "text": [
      "51143\n",
      "000005114313000007\n"
     ]
    }
   ],
   "source": [
    "print(cik)\n",
    "print(accNoDash)"
   ]
  },
  {
   "cell_type": "markdown",
   "metadata": {},
   "source": [
    "### Parsing the url "
   ]
  },
  {
   "cell_type": "code",
   "execution_count": 81,
   "metadata": {
    "collapsed": false
   },
   "outputs": [],
   "source": [
    "url = 'https://www.sec.gov/Archives/edgar/data/'+cik+'/'+accNoDash+'/'+acc+'-index.htm'\n",
    "parsed = parse(urlopen(url))\n",
    "doc = parsed.getroot()"
   ]
  },
  {
   "cell_type": "code",
   "execution_count": 82,
   "metadata": {
    "collapsed": true
   },
   "outputs": [],
   "source": [
    "links = doc.findall('.//a')\n",
    "url = [lnk.get('href')for lnk in doc.findall('.//a')]"
   ]
  },
  {
   "cell_type": "code",
   "execution_count": 83,
   "metadata": {
    "collapsed": false,
    "scrolled": false
   },
   "outputs": [
    {
     "data": {
      "text/plain": [
       "['/Archives/edgar/data/51143/000005114313000007/ibm13q3_ex11.htm',\n",
       " '/Archives/edgar/data/51143/000005114313000007/ibm13q3_ex12.htm',\n",
       " '/Archives/edgar/data/51143/000005114313000007/ibm13q3_ex31d1.htm',\n",
       " '/Archives/edgar/data/51143/000005114313000007/ibm13q3_ex31d2.htm',\n",
       " '/Archives/edgar/data/51143/000005114313000007/ibm13q3_ex32d1.htm',\n",
       " '/Archives/edgar/data/51143/000005114313000007/ibm13q3_ex32d2.htm',\n",
       " '/Archives/edgar/data/51143/000005114313000007/0000051143-13-000007.txt',\n",
       " '/Archives/edgar/data/51143/000005114313000007/ibm-20130930.xml',\n",
       " '/Archives/edgar/data/51143/000005114313000007/ibm-20130930.xsd',\n",
       " '/Archives/edgar/data/51143/000005114313000007/ibm-20130930_cal.xml',\n",
       " '/Archives/edgar/data/51143/000005114313000007/ibm-20130930_def.xml',\n",
       " '/Archives/edgar/data/51143/000005114313000007/ibm-20130930_lab.xml',\n",
       " '/Archives/edgar/data/51143/000005114313000007/ibm-20130930_pre.xml']"
      ]
     },
     "execution_count": 83,
     "metadata": {},
     "output_type": "execute_result"
    }
   ],
   "source": [
    "url[10:23]"
   ]
  },
  {
   "cell_type": "code",
   "execution_count": 84,
   "metadata": {
    "collapsed": true
   },
   "outputs": [],
   "source": [
    "tables = doc.findall('.//table')"
   ]
  },
  {
   "cell_type": "code",
   "execution_count": 85,
   "metadata": {
    "collapsed": true
   },
   "outputs": [],
   "source": [
    "example = tables[0]"
   ]
  },
  {
   "cell_type": "code",
   "execution_count": 46,
   "metadata": {
    "collapsed": true
   },
   "outputs": [],
   "source": [
    "rows = example.findall('.//tr')"
   ]
  },
  {
   "cell_type": "code",
   "execution_count": 11,
   "metadata": {
    "collapsed": true
   },
   "outputs": [],
   "source": [
    "#def _unpack(row, kind='td'):\n",
    "#    elts = row.findall('.//%s' % kind)\n",
    "#    return [val.text_content() for val in elts]\n",
    "\n",
    "#def parse_options_data(table):\n",
    "#    rows=table.findall('.//tr')\n",
    "#    header = _unpack(rows[0], kind ='th')\n",
    "#    data = [_unpack(r) for r in rows[1:]]\n",
    "#    return TextParser(data, names = header).get_chunk()\n",
    "\n",
    "#example_data = parse_options_data(example)\n",
    "#example_data[:10]\n",
    "\n",
    "#for r in range(len(example_data)):\n",
    "#        d= example_data['Description'][r]\n",
    "#        if d =='10-Q' :\n",
    "#            Doc.append(example_data['Document'][r])\n",
    "\n"
   ]
  },
  {
   "cell_type": "code",
   "execution_count": 47,
   "metadata": {
    "collapsed": false,
    "scrolled": true
   },
   "outputs": [
    {
     "name": "stdout",
     "output_type": "stream",
     "text": [
      "['Seq', 'Description', 'Document', 'Type', 'Size']\n"
     ]
    }
   ],
   "source": [
    "print(_unpack(rows[0], kind=\"th\"))"
   ]
  },
  {
   "cell_type": "code",
   "execution_count": 135,
   "metadata": {
    "collapsed": false
   },
   "outputs": [],
   "source": [
    "Doc=[]\n",
    "for t in range(len(tables)):\n",
    "    example = tables[t]\n",
    "    \n",
    "    rows = example.findall('.//tr')\n",
    "    \n",
    "    def _unpack(row, kind='td'):\n",
    "        elts = row.findall('.//%s' % kind)\n",
    "        return [val.text_content() for val in elts]\n",
    "\n",
    "    def parse_options_data(table):\n",
    "        rows=table.findall('.//tr')\n",
    "        header = _unpack(rows[0], kind ='th')\n",
    "        data = [_unpack(r) for r in rows[1:]]\n",
    "        return TextParser(data, names = header).get_chunk()\n",
    "\n",
    "    example_data = parse_options_data(example)\n",
    "    \n",
    "    \n",
    "    for r in range(len(example_data)):\n",
    "        d= example_data['Description'][r]\n",
    "        if d =='10-Q' :\n",
    "            Doc.append(example_data['Document'][r])"
   ]
  },
  {
   "cell_type": "code",
   "execution_count": 16,
   "metadata": {
    "collapsed": false
   },
   "outputs": [
    {
     "data": {
      "text/plain": [
       "['ibm13q3_10q.htm']"
      ]
     },
     "execution_count": 16,
     "metadata": {},
     "output_type": "execute_result"
    }
   ],
   "source": [
    "Doc"
   ]
  },
  {
   "cell_type": "markdown",
   "metadata": {
    "collapsed": true
   },
   "source": [
    "https://www.sec.gov/Archives/edgar/data/51143/000005114313000007/ibm13q3_10q.htm"
   ]
  },
  {
   "cell_type": "markdown",
   "metadata": {},
   "source": [
    "## 10-Q Links"
   ]
  },
  {
   "cell_type": "code",
   "execution_count": 140,
   "metadata": {
    "collapsed": false
   },
   "outputs": [
    {
     "name": "stdout",
     "output_type": "stream",
     "text": [
      "https://www.sec.gov/Archives/edgar/data/51143/000005114313000007/ibm13q3_10q.htm\n"
     ]
    }
   ],
   "source": [
    "for link in Doc:\n",
    "    l = 'https://www.sec.gov/Archives/edgar/data/'+cik+'/'+accNoDash+'/'+link+''\n",
    "    print(l)\n",
    "    p = parse(urlopen(l))\n",
    "    q_link= p.getroot()"
   ]
  },
  {
   "cell_type": "code",
   "execution_count": 141,
   "metadata": {
    "collapsed": false
   },
   "outputs": [],
   "source": [
    "tables_2 = q_link.findall('.//table')"
   ]
  },
  {
   "cell_type": "code",
   "execution_count": 175,
   "metadata": {
    "collapsed": false
   },
   "outputs": [
    {
     "data": {
      "text/plain": [
       "112"
      ]
     },
     "execution_count": 175,
     "metadata": {},
     "output_type": "execute_result"
    }
   ],
   "source": [
    "len(tables_2)"
   ]
  },
  {
   "cell_type": "code",
   "execution_count": 143,
   "metadata": {
    "collapsed": true
   },
   "outputs": [],
   "source": [
    "ex = tables_2[8]\n",
    "row = ex.findall('.//tr')"
   ]
  },
  {
   "cell_type": "code",
   "execution_count": 176,
   "metadata": {
    "collapsed": false
   },
   "outputs": [
    {
     "name": "stdout",
     "output_type": "stream",
     "text": [
      "['\\n  \\xa0\\n  ', '\\n  Investment\\n  in software\\n  ', '\\n  \\xa0\\n  ', '\\n  \\xa0\\n  ', '\\n  \\xa0(406)\\xa0\\n  ', '\\n  \\xa0\\n  ', '\\n  \\xa0\\n  ', '\\n  \\xa0(476)\\xa0\\n  ']\n"
     ]
    }
   ],
   "source": [
    "print(_unpack(row[15], kind=\"td\"))"
   ]
  },
  {
   "cell_type": "code",
   "execution_count": 171,
   "metadata": {
    "collapsed": true
   },
   "outputs": [],
   "source": [
    "page = urllib.request.urlopen(l)\n",
    "soup = BeautifulSoup(page,\"lxml\")\n",
    "# Grabing all the tables considering the table tags\n",
    "table_2 = soup.select('div table')"
   ]
  },
  {
   "cell_type": "code",
   "execution_count": 263,
   "metadata": {
    "collapsed": false
   },
   "outputs": [
    {
     "data": {
      "text/plain": [
       "112"
      ]
     },
     "execution_count": 263,
     "metadata": {},
     "output_type": "execute_result"
    }
   ],
   "source": [
    "len(table_2)"
   ]
  },
  {
   "cell_type": "markdown",
   "metadata": {},
   "source": [
    "### Traversing through all tables in 10-Q document and storing the tables in the list -> f_tables[ ]"
   ]
  },
  {
   "cell_type": "code",
   "execution_count": 273,
   "metadata": {
    "collapsed": false
   },
   "outputs": [],
   "source": [
    "f_tables=[]\n",
    "for t in table_2:\n",
    "    #rows t.findAll('tr')\n",
    "    for row in t.find_all('tr'):\n",
    "        for cell in row.findAll('td') :\n",
    "            flag = 0\n",
    "            if ('$' in cell.get_text().strip() or '%' in cell.get_text().strip()):\n",
    "                f_tables.append(t)\n",
    "                flag=1\n",
    "                break\n",
    "        if(flag==1):\n",
    "            break   "
   ]
  },
  {
   "cell_type": "code",
   "execution_count": 274,
   "metadata": {
    "collapsed": false
   },
   "outputs": [
    {
     "data": {
      "text/plain": [
       "101"
      ]
     },
     "execution_count": 274,
     "metadata": {},
     "output_type": "execute_result"
    }
   ],
   "source": [
    "len(f_tables)"
   ]
  },
  {
   "cell_type": "code",
   "execution_count": 278,
   "metadata": {
    "collapsed": false
   },
   "outputs": [
    {
     "data": {
      "text/plain": [
       "<class 'bs4.element.Tag'>"
      ]
     },
     "execution_count": 278,
     "metadata": {},
     "output_type": "execute_result"
    }
   ],
   "source": [
    "type(f_tables[0])"
   ]
  },
  {
   "cell_type": "code",
   "execution_count": 280,
   "metadata": {
    "collapsed": false
   },
   "outputs": [
    {
     "ename": "NameError",
     "evalue": "name 'table' is not defined",
     "output_type": "error",
     "traceback": [
      "\u001b[0;31m---------------------------------------------------------------------------\u001b[0m",
      "\u001b[0;31mNameError\u001b[0m                                 Traceback (most recent call last)",
      "\u001b[0;32m<ipython-input-280-8afb93df9265>\u001b[0m in \u001b[0;36m<module>\u001b[0;34m()\u001b[0m\n\u001b[0;32m----> 1\u001b[0;31m \u001b[0mtable\u001b[0m\u001b[0;34m\u001b[0m\u001b[0m\n\u001b[0m",
      "\u001b[0;31mNameError\u001b[0m: name 'table' is not defined"
     ]
    }
   ],
   "source": [
    "table"
   ]
  },
  {
   "cell_type": "code",
   "execution_count": null,
   "metadata": {
    "collapsed": true
   },
   "outputs": [],
   "source": [
    "def parse_html_table(self, table):\n",
    "            n_columns = 0\n",
    "            n_rows=0\n",
    "            column_names = []\n",
    "    \n",
    "            # Find number of rows and columns\n",
    "            # we also find the column titles if we can\n",
    "            for row in table.find_all('tr'):\n",
    "                \n",
    "                # Determine the number of rows in the table\n",
    "                td_tags = row.find_all('td')\n",
    "                if len(td_tags) > 0:\n",
    "                    n_rows+=1\n",
    "                    if n_columns == 0:\n",
    "                        # Set the number of columns for our table\n",
    "                        n_columns = len(td_tags)\n",
    "                        \n",
    "                # Handle column names if we find them\n",
    "                th_tags = row.find_all('th') \n",
    "                if len(th_tags) > 0 and len(column_names) == 0:\n",
    "                    for th in th_tags:\n",
    "                        column_names.append(th.get_text())\n",
    "    \n",
    "            # Safeguard on Column Titles\n",
    "            if len(column_names) > 0 and len(column_names) != n_columns:\n",
    "                raise Exception(\"Column titles do not match the number of columns\")\n",
    "    \n",
    "            columns = column_names if len(column_names) > 0 else range(0,n_columns)\n",
    "            df = pd.DataFrame(columns = columns,\n",
    "                              index= range(0,n_rows))\n",
    "            row_marker = 0\n",
    "            for row in table.find_all('tr'):\n",
    "                column_marker = 0\n",
    "                columns = row.find_all('td')\n",
    "                for column in columns:\n",
    "                    df.iat[row_marker,column_marker] = column.get_text()\n",
    "                    column_marker += 1\n",
    "                if len(columns) > 0:\n",
    "                    row_marker += 1\n",
    "                    \n",
    "            # Convert to float if possible\n",
    "            for col in df:\n",
    "                try:\n",
    "                    df[col] = df[col].astype(float)\n",
    "                except ValueError:\n",
    "                    pass\n",
    "            \n",
    "            return df\n",
    "Usage Example\n",
    "\n",
    "Let’s do an example w"
   ]
  }
 ],
 "metadata": {
  "anaconda-cloud": {},
  "kernelspec": {
   "display_name": "Python [default]",
   "language": "python",
   "name": "python3"
  },
  "language_info": {
   "codemirror_mode": {
    "name": "ipython",
    "version": 3
   },
   "file_extension": ".py",
   "mimetype": "text/x-python",
   "name": "python",
   "nbconvert_exporter": "python",
   "pygments_lexer": "ipython3",
   "version": "3.5.2"
  }
 },
 "nbformat": 4,
 "nbformat_minor": 1
}
