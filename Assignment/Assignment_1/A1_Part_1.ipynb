{
 "cells": [
  {
   "cell_type": "markdown",
   "metadata": {
    "collapsed": false
   },
   "source": [
    "### All necessary imports"
   ]
  },
  {
   "cell_type": "code",
   "execution_count": 137,
   "metadata": {
    "collapsed": true
   },
   "outputs": [],
   "source": [
    "from lxml.html import parse\n",
    "from urllib.request import urlopen\n",
    "from pandas.io.parsers import TextParser"
   ]
  },
  {
   "cell_type": "markdown",
   "metadata": {},
   "source": [
    "### Storing the cik and acc number in variables"
   ]
  },
  {
   "cell_type": "code",
   "execution_count": 138,
   "metadata": {
    "collapsed": false
   },
   "outputs": [],
   "source": [
    "#cik =\n",
    "#acc ="
   ]
  },
  {
   "cell_type": "markdown",
   "metadata": {},
   "source": [
    "### Parsing the url "
   ]
  },
  {
   "cell_type": "code",
   "execution_count": 2,
   "metadata": {
    "collapsed": true
   },
   "outputs": [],
   "source": [
    "parsed = parse(urlopen('https://www.sec.gov/Archives/edgar/data/51143/000005114313000007/0000051143-13-000007-index.htm'))\n",
    "doc = parsed.getroot()"
   ]
  },
  {
   "cell_type": "code",
   "execution_count": 3,
   "metadata": {
    "collapsed": false
   },
   "outputs": [],
   "source": [
    "links = doc.findall('.//a')"
   ]
  },
  {
   "cell_type": "code",
   "execution_count": 4,
   "metadata": {
    "collapsed": false
   },
   "outputs": [],
   "source": [
    "url = [lnk.get('href')for lnk in doc.findall('.//a')]"
   ]
  },
  {
   "cell_type": "code",
   "execution_count": 100,
   "metadata": {
    "collapsed": false,
    "scrolled": true
   },
   "outputs": [],
   "source": [
    "url[10:23]"
   ]
  },
  {
   "cell_type": "code",
   "execution_count": 6,
   "metadata": {
    "collapsed": true
   },
   "outputs": [],
   "source": [
    "tables = doc.findall('.//table')"
   ]
  },
  {
   "cell_type": "code",
   "execution_count": 125,
   "metadata": {
    "collapsed": false
   },
   "outputs": [],
   "source": [
    "example = tables[0]"
   ]
  },
  {
   "cell_type": "code",
   "execution_count": 65,
   "metadata": {
    "collapsed": true
   },
   "outputs": [],
   "source": [
    "rows = example.findall('.//tr')"
   ]
  },
  {
   "cell_type": "code",
   "execution_count": 66,
   "metadata": {
    "collapsed": true
   },
   "outputs": [],
   "source": [
    "#def _unpack(row, kind='td'):\n",
    "#    elts = row.findall('.//%s' % kind)\n",
    "#    return [val.text_content() for val in elts]\n",
    "\n",
    "#def parse_options_data(table):\n",
    "#    rows=table.findall('.//tr')\n",
    "#    header = _unpack(rows[0], kind ='th')\n",
    "#    data = [_unpack(r) for r in rows[1:]]\n",
    "#    return TextParser(data, names = header).get_chunk()\n",
    "\n",
    "#example_data = parse_options_data(example)\n",
    "#example_data[:10]\n",
    "\n",
    "#for r in range(len(example_data)):\n",
    "#        d= example_data['Description'][r]\n",
    "#        if d =='10-Q' :\n",
    "#            Doc.append(example_data['Document'][r])\n",
    "\n"
   ]
  },
  {
   "cell_type": "code",
   "execution_count": 67,
   "metadata": {
    "collapsed": false,
    "scrolled": true
   },
   "outputs": [
    {
     "name": "stdout",
     "output_type": "stream",
     "text": [
      "['Seq', 'Description', 'Document', 'Type', 'Size']\n"
     ]
    }
   ],
   "source": [
    "print(_unpack(rows[0], kind=\"th\"))"
   ]
  },
  {
   "cell_type": "code",
   "execution_count": 129,
   "metadata": {
    "collapsed": false
   },
   "outputs": [],
   "source": [
    "Doc=[]\n",
    "for t in range(len(tables)):\n",
    "    example = tables[t]\n",
    "    \n",
    "    rows = example.findall('.//tr')\n",
    "    \n",
    "    def _unpack(row, kind='td'):\n",
    "        elts = row.findall('.//%s' % kind)\n",
    "        return [val.text_content() for val in elts]\n",
    "\n",
    "    def parse_options_data(table):\n",
    "        rows=table.findall('.//tr')\n",
    "        header = _unpack(rows[0], kind ='th')\n",
    "        data = [_unpack(r) for r in rows[1:]]\n",
    "        return TextParser(data, names = header).get_chunk()\n",
    "\n",
    "    example_data = parse_options_data(example)\n",
    "    \n",
    "    \n",
    "    for r in range(len(example_data)):\n",
    "        d= example_data['Description'][r]\n",
    "        if d =='10-Q' :\n",
    "            Doc.append(example_data['Document'][r])"
   ]
  },
  {
   "cell_type": "code",
   "execution_count": 130,
   "metadata": {
    "collapsed": false
   },
   "outputs": [
    {
     "data": {
      "text/plain": [
       "['ibm13q3_10q.htm']"
      ]
     },
     "execution_count": 130,
     "metadata": {},
     "output_type": "execute_result"
    }
   ],
   "source": [
    "Doc"
   ]
  },
  {
   "cell_type": "code",
   "execution_count": null,
   "metadata": {
    "collapsed": true
   },
   "outputs": [],
   "source": []
  }
 ],
 "metadata": {
  "anaconda-cloud": {},
  "kernelspec": {
   "display_name": "Python [conda root]",
   "language": "python",
   "name": "conda-root-py"
  },
  "language_info": {
   "codemirror_mode": {
    "name": "ipython",
    "version": 3
   },
   "file_extension": ".py",
   "mimetype": "text/x-python",
   "name": "python",
   "nbconvert_exporter": "python",
   "pygments_lexer": "ipython3",
   "version": "3.5.2"
  }
 },
 "nbformat": 4,
 "nbformat_minor": 1
}
