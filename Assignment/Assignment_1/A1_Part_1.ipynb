{
 "cells": [
  {
   "cell_type": "markdown",
   "metadata": {},
   "source": [
    "### All necessary imports"
   ]
  },
  {
   "cell_type": "code",
   "execution_count": 137,
   "metadata": {
    "collapsed": true
   },
   "outputs": [],
   "source": [
    "from lxml.html import parse\n",
    "from urllib.request import urlopen\n",
    "from pandas.io.parsers import TextParser"
   ]
  },
  {
   "cell_type": "markdown",
   "metadata": {},
   "source": [
    "### Storing the cik and acc number in variables"
   ]
  },
  {
   "cell_type": "code",
   "execution_count": 84,
   "metadata": {},
   "outputs": [],
   "source": [
    "file_obj = open(\"cikInformation.txt\",\"r\" )\n",
    "cik = file_obj.readline().rstrip()\n",
    "acc = file_obj.readline().rstrip()\n",
    "accNoDash = acc.replace('-', '')"
   ]
  },
  {
   "cell_type": "markdown",
   "metadata": {},
   "source": [
    "### Parsing the url "
   ]
  },
  {
   "cell_type": "code",
   "execution_count": 96,
   "metadata": {},
   "outputs": [
    {
     "name": "stdout",
     "output_type": "stream",
     "text": [
      "https://www.sec.gov/Archives/edgar/data/51143/000005114313000007/0000051143-13-000007-index.htm\n"
     ]
    }
   ],
   "source": [
    "url = 'https://www.sec.gov/Archives/edgar/data/'+cik+'/'+accNoDash+'/'+acc+'-index.htm'"
   ]
  },
  {
   "cell_type": "code",
   "execution_count": 99,
   "metadata": {},
   "outputs": [],
   "source": [
    "parsed = parse(urlopen(url))\n",
    "doc = parsed.getroot()"
   ]
  },
  {
   "cell_type": "code",
   "execution_count": 100,
   "metadata": {},
   "outputs": [],
   "source": [
    "links = doc.findall('.//a')"
   ]
  },
  {
   "cell_type": "code",
   "execution_count": 101,
   "metadata": {},
   "outputs": [],
   "source": [
    "url = [lnk.get('href')for lnk in doc.findall('.//a')]"
   ]
  },
  {
   "cell_type": "code",
   "execution_count": 102,
   "metadata": {
    "scrolled": true
   },
   "outputs": [
    {
     "data": {
      "text/plain": [
       "['/Archives/edgar/data/51143/000005114313000007/ibm13q3_ex11.htm',\n",
       " '/Archives/edgar/data/51143/000005114313000007/ibm13q3_ex12.htm',\n",
       " '/Archives/edgar/data/51143/000005114313000007/ibm13q3_ex31d1.htm',\n",
       " '/Archives/edgar/data/51143/000005114313000007/ibm13q3_ex31d2.htm',\n",
       " '/Archives/edgar/data/51143/000005114313000007/ibm13q3_ex32d1.htm',\n",
       " '/Archives/edgar/data/51143/000005114313000007/ibm13q3_ex32d2.htm',\n",
       " '/Archives/edgar/data/51143/000005114313000007/0000051143-13-000007.txt',\n",
       " '/Archives/edgar/data/51143/000005114313000007/ibm-20130930.xml',\n",
       " '/Archives/edgar/data/51143/000005114313000007/ibm-20130930.xsd',\n",
       " '/Archives/edgar/data/51143/000005114313000007/ibm-20130930_cal.xml',\n",
       " '/Archives/edgar/data/51143/000005114313000007/ibm-20130930_def.xml',\n",
       " '/Archives/edgar/data/51143/000005114313000007/ibm-20130930_lab.xml',\n",
       " '/Archives/edgar/data/51143/000005114313000007/ibm-20130930_pre.xml']"
      ]
     },
     "execution_count": 102,
     "metadata": {},
     "output_type": "execute_result"
    }
   ],
   "source": [
    "url[10:23]"
   ]
  },
  {
   "cell_type": "code",
   "execution_count": 103,
   "metadata": {
    "collapsed": true
   },
   "outputs": [],
   "source": [
    "tables = doc.findall('.//table')"
   ]
  },
  {
   "cell_type": "code",
   "execution_count": 104,
   "metadata": {},
   "outputs": [],
   "source": [
    "example = tables[0]"
   ]
  },
  {
   "cell_type": "code",
   "execution_count": 105,
   "metadata": {
    "collapsed": true
   },
   "outputs": [],
   "source": [
    "rows = example.findall('.//tr')"
   ]
  },
  {
   "cell_type": "code",
   "execution_count": 106,
   "metadata": {
    "collapsed": true
   },
   "outputs": [],
   "source": [
    "#def _unpack(row, kind='td'):\n",
    "#    elts = row.findall('.//%s' % kind)\n",
    "#    return [val.text_content() for val in elts]\n",
    "\n",
    "#def parse_options_data(table):\n",
    "#    rows=table.findall('.//tr')\n",
    "#    header = _unpack(rows[0], kind ='th')\n",
    "#    data = [_unpack(r) for r in rows[1:]]\n",
    "#    return TextParser(data, names = header).get_chunk()\n",
    "\n",
    "#example_data = parse_options_data(example)\n",
    "#example_data[:10]\n",
    "\n",
    "#for r in range(len(example_data)):\n",
    "#        d= example_data['Description'][r]\n",
    "#        if d =='10-Q' :\n",
    "#            Doc.append(example_data['Document'][r])\n",
    "\n"
   ]
  },
  {
   "cell_type": "code",
   "execution_count": 107,
   "metadata": {
    "scrolled": true
   },
   "outputs": [
    {
     "name": "stdout",
     "output_type": "stream",
     "text": [
      "['Seq', 'Description', 'Document', 'Type', 'Size']\n"
     ]
    }
   ],
   "source": [
    "print(_unpack(rows[0], kind=\"th\"))"
   ]
  },
  {
   "cell_type": "code",
   "execution_count": 108,
   "metadata": {},
   "outputs": [],
   "source": [
    "Doc=[]\n",
    "for t in range(len(tables)):\n",
    "    example = tables[t]\n",
    "    \n",
    "    rows = example.findall('.//tr')\n",
    "    \n",
    "    def _unpack(row, kind='td'):\n",
    "        elts = row.findall('.//%s' % kind)\n",
    "        return [val.text_content() for val in elts]\n",
    "\n",
    "    def parse_options_data(table):\n",
    "        rows=table.findall('.//tr')\n",
    "        header = _unpack(rows[0], kind ='th')\n",
    "        data = [_unpack(r) for r in rows[1:]]\n",
    "        return TextParser(data, names = header).get_chunk()\n",
    "\n",
    "    example_data = parse_options_data(example)\n",
    "    \n",
    "    \n",
    "    for r in range(len(example_data)):\n",
    "        d= example_data['Description'][r]\n",
    "        if d =='10-Q' :\n",
    "            Doc.append(example_data['Document'][r])"
   ]
  },
  {
   "cell_type": "code",
   "execution_count": 109,
   "metadata": {},
   "outputs": [
    {
     "data": {
      "text/plain": [
       "['ibm13q3_10q.htm']"
      ]
     },
     "execution_count": 109,
     "metadata": {},
     "output_type": "execute_result"
    }
   ],
   "source": [
    "Doc"
   ]
  },
  {
   "cell_type": "code",
   "execution_count": null,
   "metadata": {
    "collapsed": true
   },
   "outputs": [],
   "source": []
  }
 ],
 "metadata": {
  "anaconda-cloud": {},
  "kernelspec": {
   "display_name": "Python 3",
   "language": "python",
   "name": "python3"
  },
  "language_info": {
   "codemirror_mode": {
    "name": "ipython",
    "version": 3
   },
   "file_extension": ".py",
   "mimetype": "text/x-python",
   "name": "python",
   "nbconvert_exporter": "python",
   "pygments_lexer": "ipython3",
   "version": "3.6.1"
  }
 },
 "nbformat": 4,
 "nbformat_minor": 1
}
