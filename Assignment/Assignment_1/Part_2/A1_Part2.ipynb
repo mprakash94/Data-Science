{
 "cells": [
  {
   "cell_type": "markdown",
   "metadata": {},
   "source": [
    "### All necessary imports"
   ]
  },
  {
   "cell_type": "code",
   "execution_count": 24,
   "metadata": {
    "collapsed": true
   },
   "outputs": [],
   "source": [
    "import urllib.request\n",
    "from urllib.request import urlopen\n",
    "import os\n",
    "import glob\n",
    "import shutil\n",
    "import csv\n",
    "import pprint\n",
    "import pandas as pd\n",
    "import numpy as np\n",
    "from zipfile import ZipFile\n",
    "from urllib.request import urlopen\n",
    "from tempfile import NamedTemporaryFile\n",
    "from shutil import unpack_archive\n",
    "from io import BytesIO"
   ]
  },
  {
   "cell_type": "markdown",
   "metadata": {},
   "source": [
    "### Downloading the files in zip"
   ]
  },
  {
   "cell_type": "code",
   "execution_count": 26,
   "metadata": {
    "collapsed": true
   },
   "outputs": [],
   "source": [
    "# Unzip and downloading the files in the folder\n",
    "\n",
    "def openUnzip(url):\n",
    "    with urlopen(url) as zipresp:\n",
    "        with ZipFile(BytesIO(zipresp.read())) as zfile:\n",
    "            zfile.extractall('C:/Users/madhu/Documents/NEU/Fall 2017/ADS Class/Assignment_1/Assign 1/Part_2')"
   ]
  },
  {
   "cell_type": "code",
   "execution_count": null,
   "metadata": {},
   "outputs": [
    {
     "name": "stdout",
     "output_type": "stream",
     "text": [
      "http://www.sec.gov/dera/data/Public-EDGAR-log-file-data/2016/Qtr1/log20160101.zip\n",
      "http://www.sec.gov/dera/data/Public-EDGAR-log-file-data/2016/Qtr1/log20160201.zip\n",
      "http://www.sec.gov/dera/data/Public-EDGAR-log-file-data/2016/Qtr1/log20160301.zip\n",
      "http://www.sec.gov/dera/data/Public-EDGAR-log-file-data/2016/Qtr2/log20160401.zip\n",
      "http://www.sec.gov/dera/data/Public-EDGAR-log-file-data/2016/Qtr2/log20160501.zip\n",
      "http://www.sec.gov/dera/data/Public-EDGAR-log-file-data/2016/Qtr2/log20160601.zip\n",
      "http://www.sec.gov/dera/data/Public-EDGAR-log-file-data/2016/Qtr3/log20160701.zip\n",
      "http://www.sec.gov/dera/data/Public-EDGAR-log-file-data/2016/Qtr3/log20160801.zip\n",
      "http://www.sec.gov/dera/data/Public-EDGAR-log-file-data/2016/Qtr3/log20160901.zip\n",
      "http://www.sec.gov/dera/data/Public-EDGAR-log-file-data/2016/Qtr4/log20161001.zip\n",
      "http://www.sec.gov/dera/data/Public-EDGAR-log-file-data/2016/Qtr4/log20161101.zip\n"
     ]
    }
   ],
   "source": [
    "\n",
    "file_obj = open(\"C:/Users/madhu/Documents/NEU/Fall 2017/ADS Class/Assignment_1/Assign 1/Part_2/year.txt\",\"r\" )\n",
    "year = file_obj.readline().rstrip()\n",
    "zipurl = 'http://www.sec.gov/dera/data/Public-EDGAR-log-file-data/'\n",
    "generalUrl = \"http://www.sec.gov/dera/data/PublicEDGAR-log-file-data/\"\n",
    "months = ['01',\"02\",\"03\",\"04\",\"05\",\"06\",\"07\",\"08\",\"09\",\"10\",\"11\",\"12\"]\n",
    "for m in range(len(months)):\n",
    "    if(str(months[m]) is \"01\" or str(months[m]) is \"02\" or str(months[m]) is \"03\"):\n",
    "        urlAppended = zipurl + str(year) +\"/Qtr1/\"+\"log\"+str(year)+str(months[m])+\"01.zip\"\n",
    "        print(urlAppended)\n",
    "        openUnzip(urlAppended)\n",
    "    if(str(months[m]) is \"04\" or str(months[m]) is \"05\" or str(months[m]) is \"06\"):\n",
    "        urlAppended = zipurl + str(year) +\"/Qtr2/\"+\"log\"+str(year)+str(months[m])+\"01.zip\"\n",
    "        print(urlAppended)\n",
    "        openUnzip(urlAppended)\n",
    "    if(str(months[m]) is \"07\" or str(months[m]) is \"08\" or str(months[m]) is \"09\"):\n",
    "        urlAppended = zipurl + str(year) +\"/Qtr3/\"+\"log\"+str(year)+str(months[m])+\"01.zip\"\n",
    "        print(urlAppended)\n",
    "        openUnzip(urlAppended)\n",
    "    if(str(months[m]) is \"10\" or str(months[m]) is \"11\" or str(months[m]) is \"12\"):\n",
    "        urlAppended = zipurl + str(year) +\"/Qtr4/\"+\"log\"+str(year)+str(months[m])+\"01.zip\"\n",
    "        print(urlAppended)\n",
    "        openUnzip(urlAppended)"
   ]
  },
  {
   "cell_type": "code",
   "execution_count": 25,
   "metadata": {},
   "outputs": [],
   "source": [
    "# year ='2013'\n",
    "# from urllib.request import urlopen\n",
    "# from tempfile import NamedTemporaryFile\n",
    "# from shutil import unpack_archive\n",
    "# zipurl = 'http://www.sec.gov/dera/data/Public-EDGAR-log-file-data/2003/Qtr1/log20030201.zip'\n",
    "# zipresp = urlopen(zipurl)\n",
    "# tfile = NamedTemporaryFile()\n",
    "# tfile.write(zipresp.read())\n",
    "# tfile.seek(0)\n",
    "# unpack_archive(tfile.name,path, format = 'zip')\n",
    "# zipresp.close()\n",
    "# tfile.close()"
   ]
  },
  {
   "cell_type": "markdown",
   "metadata": {},
   "source": [
    "### Reading the CSV in a dataframe"
   ]
  },
  {
   "cell_type": "code",
   "execution_count": 23,
   "metadata": {},
   "outputs": [],
   "source": [
    "for name in glob.glob(path+'/*.csv'):\n",
    "    with open(name) as csvfile:\n",
    "        df = pd.read_csv(name)\n",
    "#         print(name)\n",
    "#         readCSV = csv.reader(csvfile, delimiter=',')\n",
    "#         for row in readCSV:\n",
    "#             print(\" \".join(row))"
   ]
  },
  {
   "cell_type": "code",
   "execution_count": 24,
   "metadata": {},
   "outputs": [
    {
     "data": {
      "text/html": [
       "<div>\n",
       "<table border=\"1\" class=\"dataframe\">\n",
       "  <thead>\n",
       "    <tr style=\"text-align: right;\">\n",
       "      <th></th>\n",
       "      <th>ip</th>\n",
       "      <th>date</th>\n",
       "      <th>time</th>\n",
       "      <th>zone</th>\n",
       "      <th>cik</th>\n",
       "      <th>accession</th>\n",
       "      <th>extention</th>\n",
       "      <th>code</th>\n",
       "      <th>size</th>\n",
       "      <th>idx</th>\n",
       "      <th>norefer</th>\n",
       "      <th>noagent</th>\n",
       "      <th>find</th>\n",
       "      <th>crawler</th>\n",
       "      <th>browser</th>\n",
       "    </tr>\n",
       "  </thead>\n",
       "  <tbody>\n",
       "  </tbody>\n",
       "</table>\n",
       "</div>"
      ],
      "text/plain": [
       "Empty DataFrame\n",
       "Columns: [ip, date, time, zone, cik, accession, extention, code, size, idx, norefer, noagent, find, crawler, browser]\n",
       "Index: []"
      ]
     },
     "execution_count": 24,
     "metadata": {},
     "output_type": "execute_result"
    }
   ],
   "source": [
    "df"
   ]
  }
 ],
 "metadata": {
  "anaconda-cloud": {},
  "kernelspec": {
   "display_name": "Python 3",
   "language": "python",
   "name": "python3"
  },
  "language_info": {
   "codemirror_mode": {
    "name": "ipython",
    "version": 3
   },
   "file_extension": ".py",
   "mimetype": "text/x-python",
   "name": "python",
   "nbconvert_exporter": "python",
   "pygments_lexer": "ipython3",
   "version": "3.6.1"
  }
 },
 "nbformat": 4,
 "nbformat_minor": 1
}
