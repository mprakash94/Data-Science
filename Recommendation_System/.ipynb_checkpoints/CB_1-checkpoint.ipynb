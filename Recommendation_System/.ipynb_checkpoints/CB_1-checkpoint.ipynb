{
 "cells": [
  {
   "cell_type": "code",
   "execution_count": 4,
   "metadata": {
    "collapsed": true
   },
   "outputs": [],
   "source": [
    "import pandas as pd\n",
    "import numpy as np\n",
    "import matplotlib.pyplot as plt"
   ]
  },
  {
   "cell_type": "code",
   "execution_count": 5,
   "metadata": {
    "collapsed": true
   },
   "outputs": [],
   "source": [
    "data_cols = ['user id','movie id','rating','timestamp']\n",
    "item_cols = ['movie id','movie title','release date','video release date','IMDb URL','unknown','Action','Adventure','Animation','Childrens','Comedy','Crime','Documentary','Drama','Fantasy','Film-Noir','Horror','Musical','Mystery','Romance ','Sci-Fi','Thriller','War' ,'Western']\n",
    "user_cols = ['user id','age','gender','occupation','zip code']"
   ]
  },
  {
   "cell_type": "code",
   "execution_count": 6,
   "metadata": {
    "collapsed": true
   },
   "outputs": [],
   "source": [
    "users = pd.read_csv('/Users/sonalichaudhari/Desktop/ml-100k/u.user', sep='|', names=user_cols, encoding='latin-1')\n",
    "#users = pd.read_csv('/Users/sonalichaudhari/Desktop/Recommendation_Systems/ml-20m/ratings.csv')\n",
    "item = pd.read_csv('/Users/sonalichaudhari/Desktop/ml-100k/u.item', sep='|', names=item_cols, encoding='latin-1')\n",
    "#item = pd.read_csv('/Users/sonalichaudhari/Desktop/Recommendation_Systems/ml-20m/ratings.csv')\n",
    "data = pd.read_csv('/Users/sonalichaudhari/Desktop/ml-100k/u.data', sep='\\t', names=data_cols, encoding='latin-1')\n",
    "#data = pd.read_csv('/Users/sonalichaudhari/Desktop/Recommendation_Systems/ml-20m/ratings.csv')"
   ]
  },
  {
   "cell_type": "code",
   "execution_count": 7,
   "metadata": {
    "collapsed": false
   },
   "outputs": [
    {
     "name": "stdout",
     "output_type": "stream",
     "text": [
      "Users Head\n",
      "   user id  age gender  occupation zip code\n",
      "0        1   24      M  technician    85711\n",
      "1        2   53      F       other    94043\n",
      "2        3   23      M      writer    32067\n",
      "3        4   24      M  technician    43537\n",
      "4        5   33      F       other    15213\n",
      "\n",
      "Items Head\n",
      "   movie id        movie title release date  video release date  \\\n",
      "0         1   Toy Story (1995)  01-Jan-1995                 NaN   \n",
      "1         2   GoldenEye (1995)  01-Jan-1995                 NaN   \n",
      "2         3  Four Rooms (1995)  01-Jan-1995                 NaN   \n",
      "3         4  Get Shorty (1995)  01-Jan-1995                 NaN   \n",
      "4         5     Copycat (1995)  01-Jan-1995                 NaN   \n",
      "\n",
      "                                            IMDb URL  unknown  Action  \\\n",
      "0  http://us.imdb.com/M/title-exact?Toy%20Story%2...        0       0   \n",
      "1  http://us.imdb.com/M/title-exact?GoldenEye%20(...        0       1   \n",
      "2  http://us.imdb.com/M/title-exact?Four%20Rooms%...        0       0   \n",
      "3  http://us.imdb.com/M/title-exact?Get%20Shorty%...        0       1   \n",
      "4  http://us.imdb.com/M/title-exact?Copycat%20(1995)        0       0   \n",
      "\n",
      "   Adventure  Animation  Childrens   ...     Fantasy  Film-Noir  Horror  \\\n",
      "0          0          1          1   ...           0          0       0   \n",
      "1          1          0          0   ...           0          0       0   \n",
      "2          0          0          0   ...           0          0       0   \n",
      "3          0          0          0   ...           0          0       0   \n",
      "4          0          0          0   ...           0          0       0   \n",
      "\n",
      "   Musical  Mystery  Romance   Sci-Fi  Thriller  War  Western  \n",
      "0        0        0         0       0         0    0        0  \n",
      "1        0        0         0       0         1    0        0  \n",
      "2        0        0         0       0         1    0        0  \n",
      "3        0        0         0       0         0    0        0  \n",
      "4        0        0         0       0         1    0        0  \n",
      "\n",
      "[5 rows x 24 columns]\n",
      "\n",
      "Data Head\n",
      "   user id  movie id  rating  timestamp\n",
      "0      196       242       3  881250949\n",
      "1      186       302       3  891717742\n",
      "2       22       377       1  878887116\n",
      "3      244        51       2  880606923\n",
      "4      166       346       1  886397596\n"
     ]
    }
   ],
   "source": [
    "print(\"Users Head\")\n",
    "print(users.head())\n",
    "print(\"\\nItems Head\")\n",
    "print(item.head())\n",
    "print(\"\\nData Head\")\n",
    "print(data.head())"
   ]
  },
  {
   "cell_type": "code",
   "execution_count": 8,
   "metadata": {
    "collapsed": false
   },
   "outputs": [
    {
     "name": "stdout",
     "output_type": "stream",
     "text": [
      "<class 'pandas.core.frame.DataFrame'>\n",
      "RangeIndex: 943 entries, 0 to 942\n",
      "Data columns (total 5 columns):\n",
      "user id       943 non-null int64\n",
      "age           943 non-null int64\n",
      "gender        943 non-null object\n",
      "occupation    943 non-null object\n",
      "zip code      943 non-null object\n",
      "dtypes: int64(2), object(3)\n",
      "memory usage: 36.9+ KB\n",
      "\n",
      " None\n",
      "<class 'pandas.core.frame.DataFrame'>\n",
      "RangeIndex: 1682 entries, 0 to 1681\n",
      "Data columns (total 24 columns):\n",
      "movie id              1682 non-null int64\n",
      "movie title           1682 non-null object\n",
      "release date          1681 non-null object\n",
      "video release date    0 non-null float64\n",
      "IMDb URL              1679 non-null object\n",
      "unknown               1682 non-null int64\n",
      "Action                1682 non-null int64\n",
      "Adventure             1682 non-null int64\n",
      "Animation             1682 non-null int64\n",
      "Childrens             1682 non-null int64\n",
      "Comedy                1682 non-null int64\n",
      "Crime                 1682 non-null int64\n",
      "Documentary           1682 non-null int64\n",
      "Drama                 1682 non-null int64\n",
      "Fantasy               1682 non-null int64\n",
      "Film-Noir             1682 non-null int64\n",
      "Horror                1682 non-null int64\n",
      "Musical               1682 non-null int64\n",
      "Mystery               1682 non-null int64\n",
      "Romance               1682 non-null int64\n",
      "Sci-Fi                1682 non-null int64\n",
      "Thriller              1682 non-null int64\n",
      "War                   1682 non-null int64\n",
      "Western               1682 non-null int64\n",
      "dtypes: float64(1), int64(20), object(3)\n",
      "memory usage: 315.5+ KB\n",
      "\n",
      " None\n",
      "<class 'pandas.core.frame.DataFrame'>\n",
      "RangeIndex: 100000 entries, 0 to 99999\n",
      "Data columns (total 4 columns):\n",
      "user id      100000 non-null int64\n",
      "movie id     100000 non-null int64\n",
      "rating       100000 non-null int64\n",
      "timestamp    100000 non-null int64\n",
      "dtypes: int64(4)\n",
      "memory usage: 3.1 MB\n",
      "\n",
      " None\n"
     ]
    }
   ],
   "source": [
    "print('\\n',users.info())\n",
    "print('\\n',item.info())\n",
    "print('\\n',data.info())"
   ]
  },
  {
   "cell_type": "code",
   "execution_count": 9,
   "metadata": {
    "collapsed": false
   },
   "outputs": [
    {
     "name": "stdout",
     "output_type": "stream",
     "text": [
      "   movie id            movie title release date  video release date  \\\n",
      "0         1       Toy Story (1995)  01-Jan-1995                 NaN   \n",
      "1         4      Get Shorty (1995)  01-Jan-1995                 NaN   \n",
      "2         5         Copycat (1995)  01-Jan-1995                 NaN   \n",
      "3         7  Twelve Monkeys (1995)  01-Jan-1995                 NaN   \n",
      "4         8            Babe (1995)  01-Jan-1995                 NaN   \n",
      "\n",
      "                                            IMDb URL  unknown  Action  \\\n",
      "0  http://us.imdb.com/M/title-exact?Toy%20Story%2...        0       0   \n",
      "1  http://us.imdb.com/M/title-exact?Get%20Shorty%...        0       1   \n",
      "2  http://us.imdb.com/M/title-exact?Copycat%20(1995)        0       0   \n",
      "3  http://us.imdb.com/M/title-exact?Twelve%20Monk...        0       0   \n",
      "4     http://us.imdb.com/M/title-exact?Babe%20(1995)        0       0   \n",
      "\n",
      "   Adventure  Animation  Childrens    ...     Thriller  War  Western  user id  \\\n",
      "0          0          1          1    ...            0    0        0      308   \n",
      "1          0          0          0    ...            0    0        0      308   \n",
      "2          0          0          0    ...            1    0        0      308   \n",
      "3          0          0          0    ...            0    0        0      308   \n",
      "4          0          0          1    ...            0    0        0      308   \n",
      "\n",
      "   rating  timestamp  age  gender  occupation  zip code  \n",
      "0       4  887736532   60       M     retired     95076  \n",
      "1       5  887737890   60       M     retired     95076  \n",
      "2       4  887739608   60       M     retired     95076  \n",
      "3       4  887738847   60       M     retired     95076  \n",
      "4       5  887736696   60       M     retired     95076  \n",
      "\n",
      "[5 rows x 31 columns]\n"
     ]
    }
   ],
   "source": [
    "dataset = pd.merge(pd.merge(item, data),users)\n",
    "print(dataset.head())"
   ]
  },
  {
   "cell_type": "code",
   "execution_count": 17,
   "metadata": {
    "collapsed": false
   },
   "outputs": [
    {
     "data": {
      "text/plain": [
       "movie title\n",
       "'Til There Was You (1997)      9\n",
       "1-900 (1994)                   5\n",
       "101 Dalmatians (1996)        109\n",
       "12 Angry Men (1957)          125\n",
       "187 (1997)                    41\n",
       "dtype: int64"
      ]
     },
     "execution_count": 17,
     "metadata": {},
     "output_type": "execute_result"
    }
   ],
   "source": [
    "ratings_total = dataset.groupby('movie title').size()\n",
    "ratings_total.head()"
   ]
  },
  {
   "cell_type": "code",
   "execution_count": 11,
   "metadata": {
    "collapsed": true
   },
   "outputs": [],
   "source": [
    "rt = (dataset.groupby('movie title'))['movie title','rating']\n",
    "ratings_mean = (rt.mean())"
   ]
  },
  {
   "cell_type": "code",
   "execution_count": 12,
   "metadata": {
    "collapsed": true
   },
   "outputs": [],
   "source": [
    "#modify those dataframes so that we can merge the two \n",
    "ratings_total = pd.DataFrame({'movie title':ratings_total.index, 'total ratings': ratings_total.values})\n",
    "ratings_mean['movie title'] = ratings_mean.index"
   ]
  },
  {
   "cell_type": "code",
   "execution_count": 13,
   "metadata": {
    "collapsed": false
   },
   "outputs": [
    {
     "name": "stdout",
     "output_type": "stream",
     "text": [
      "        rating                movie title  total ratings\n",
      "1398  4.358491           Star Wars (1977)            583\n",
      "333   3.803536             Contact (1997)            509\n",
      "498   4.155512               Fargo (1996)            508\n",
      "1234  4.007890  Return of the Jedi (1983)            507\n",
      "860   3.156701           Liar Liar (1997)            485\n",
      "            rating  total ratings\n",
      "count  1664.000000    1664.000000\n",
      "mean      3.077018      60.096154\n",
      "std       0.780418      80.956484\n",
      "min       1.000000       1.000000\n",
      "25%       2.665094       7.000000\n",
      "50%       3.162132      27.000000\n",
      "75%       3.651808      80.250000\n",
      "max       5.000000     583.000000\n"
     ]
    }
   ],
   "source": [
    "final = pd.merge(ratings_mean, ratings_total).sort_values(by = 'total ratings', ascending= False)\n",
    "print(final.head())\n",
    "print(final.describe())"
   ]
  },
  {
   "cell_type": "code",
   "execution_count": 14,
   "metadata": {
    "collapsed": false
   },
   "outputs": [
    {
     "name": "stdout",
     "output_type": "stream",
     "text": [
      "        rating                       movie title  total ratings\n",
      "1281  4.466443           Schindler's List (1993)            298\n",
      "1652  4.466102        Wrong Trousers, The (1993)            118\n",
      "273   4.456790                 Casablanca (1942)            243\n",
      "1317  4.445230  Shawshank Redemption, The (1994)            283\n",
      "1215  4.387560                Rear Window (1954)            209\n"
     ]
    }
   ],
   "source": [
    "final = final[:300].sort_values(by = 'rating', ascending = False)\n",
    "print(final.head())"
   ]
  },
  {
   "cell_type": "code",
   "execution_count": null,
   "metadata": {
    "collapsed": true
   },
   "outputs": [],
   "source": []
  }
 ],
 "metadata": {
  "anaconda-cloud": {},
  "kernelspec": {
   "display_name": "Python [conda root]",
   "language": "python",
   "name": "conda-root-py"
  },
  "language_info": {
   "codemirror_mode": {
    "name": "ipython",
    "version": 3
   },
   "file_extension": ".py",
   "mimetype": "text/x-python",
   "name": "python",
   "nbconvert_exporter": "python",
   "pygments_lexer": "ipython3",
   "version": "3.5.2"
  }
 },
 "nbformat": 4,
 "nbformat_minor": 1
}
